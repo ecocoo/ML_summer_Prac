{
 "cells": [
  {
   "cell_type": "code",
   "execution_count": 1,
   "id": "31d70223",
   "metadata": {},
   "outputs": [],
   "source": [
    "import torch\n",
    "import time\n",
    "from prettytable import PrettyTable"
   ]
  },
  {
   "cell_type": "markdown",
   "id": "2717d84c",
   "metadata": {},
   "source": [
    "### 3.1 Подготовка данных"
   ]
  },
  {
   "cell_type": "code",
   "execution_count": null,
   "id": "059dbe28",
   "metadata": {},
   "outputs": [],
   "source": [
    "# Создайте большие матрицы размеров:\n",
    "# - 64 x 1024 x 1024\n",
    "# - 128 x 512 x 512\n",
    "# - 256 x 256 x 256\n",
    "# Заполните их случайными числами"
   ]
  },
  {
   "cell_type": "code",
   "execution_count": 2,
   "id": "27161be4",
   "metadata": {},
   "outputs": [],
   "source": [
    "tensor_1 = torch.rand((64, 1024, 1024))\n",
    "tensor_2 = torch.rand((128, 512, 512))\n",
    "tensor_3 = torch.rand((256, 256, 256))\n",
    "tensors = [tensor_1, tensor_2, tensor_3]\n",
    "tensor_names = ['64 x 1024 x 1024','128 x 512 x 512','256 x 256 x 256']"
   ]
  },
  {
   "cell_type": "markdown",
   "id": "be50faf6",
   "metadata": {},
   "source": [
    "### 3.2 Функция измерения времени"
   ]
  },
  {
   "cell_type": "code",
   "execution_count": null,
   "id": "6dd4bd07",
   "metadata": {},
   "outputs": [],
   "source": [
    "# Создайте функцию для измерения времени выполнения операций\n",
    "# Используйте torch.cuda.Event() для точного измерения на GPU\n",
    "# Используйте time.time() для измерения на CPU"
   ]
  },
  {
   "cell_type": "markdown",
   "id": "368a4ff8",
   "metadata": {},
   "source": [
    "Так как я использую Mac с чипом M1. Я буду использовать GPU - ускорение от Apple через mps"
   ]
  },
  {
   "cell_type": "code",
   "execution_count": 3,
   "id": "2cc19163",
   "metadata": {},
   "outputs": [
    {
     "name": "stdout",
     "output_type": "stream",
     "text": [
      "Используемое устройство: mps\n"
     ]
    }
   ],
   "source": [
    "device = torch.device(\"mps\" if torch.backends.mps.is_available() else \"cpu\")\n",
    "print(f\"Используемое устройство: {device}\")"
   ]
  },
  {
   "cell_type": "code",
   "execution_count": 4,
   "id": "f950d77b",
   "metadata": {},
   "outputs": [],
   "source": [
    "def measure_time(operation, device='cpu'):\n",
    "    start = time.time()\n",
    "    operation()\n",
    "    if device == 'mps':\n",
    "        torch.mps.synchronize()\n",
    "    return (time.time() - start) * 1000  # мс"
   ]
  },
  {
   "cell_type": "markdown",
   "id": "95e1df5c",
   "metadata": {},
   "source": [
    "### 3.3 Сравнение операций"
   ]
  },
  {
   "cell_type": "code",
   "execution_count": null,
   "id": "92437005",
   "metadata": {},
   "outputs": [],
   "source": [
    "# Сравните время выполнения следующих операций на CPU и CUDA:\n",
    "# - Матричное умножение (torch.matmul)\n",
    "# - Поэлементное сложение\n",
    "# - Поэлементное умножение\n",
    "# - Транспонирование\n",
    "# - Вычисление суммы всех элементов\n",
    "\n",
    "# Для каждой операции:\n",
    "# 1. Измерьте время на CPU\n",
    "# 2. Измерьте время на GPU (если доступен)\n",
    "# 3. Вычислите ускорение (speedup)\n",
    "# 4. Выведите результаты в табличном виде"
   ]
  },
  {
   "cell_type": "code",
   "execution_count": 5,
   "id": "5aef87aa",
   "metadata": {},
   "outputs": [
    {
     "name": "stdout",
     "output_type": "stream",
     "text": [
      "+------------------------+------------------+----------+----------+-----------+\n",
      "|        Операция        |  Размер тензора  | CPU (мс) | GPU (мс) | Ускорение |\n",
      "+------------------------+------------------+----------+----------+-----------+\n",
      "|  Матричное умножение   | 64 x 1024 x 1024 |  456.80  |  624.82  |   0.73x   |\n",
      "|  Матричное умножение   | 128 x 512 x 512  |  104.62  |  64.22   |   1.63x   |\n",
      "|  Матричное умножение   | 256 x 256 x 256  |  28.53   |   9.81   |   2.91x   |\n",
      "| Поэлементное сложение  | 64 x 1024 x 1024 |  197.32  |  55.16   |   3.58x   |\n",
      "| Поэлементное сложение  | 128 x 512 x 512  |  11.56   |   9.84   |   1.17x   |\n",
      "| Поэлементное сложение  | 256 x 256 x 256  |   5.87   |   5.71   |   1.03x   |\n",
      "| Поэлементное умножение | 64 x 1024 x 1024 |  128.24  |  38.80   |   3.30x   |\n",
      "| Поэлементное умножение | 128 x 512 x 512  |  10.74   |   8.12   |   1.32x   |\n",
      "| Поэлементное умножение | 256 x 256 x 256  |   5.68   |   5.86   |   0.97x   |\n",
      "|    Транспонирование    | 64 x 1024 x 1024 |   0.18   |   0.04   |   4.75x   |\n",
      "|    Транспонирование    | 128 x 512 x 512  |   0.02   |   0.02   |   0.88x   |\n",
      "|    Транспонирование    | 256 x 256 x 256  |   0.03   |   0.02   |   1.24x   |\n",
      "|  Сумма всех элементов  | 64 x 1024 x 1024 |   8.22   |  150.75  |   0.05x   |\n",
      "|  Сумма всех элементов  | 128 x 512 x 512  |   2.63   |   5.94   |   0.44x   |\n",
      "|  Сумма всех элементов  | 256 x 256 x 256  |   1.28   |   4.62   |   0.28x   |\n",
      "+------------------------+------------------+----------+----------+-----------+\n"
     ]
    }
   ],
   "source": [
    "operations = {\n",
    "    \"Матричное умножение\": lambda x, y: torch.matmul(x, x.transpose(-2, -1)),\n",
    "    \"Поэлементное сложение\": lambda x, y: x + x,\n",
    "    \"Поэлементное умножение\": lambda x, y: x * x,\n",
    "    \"Транспонирование\": lambda x, y: x.transpose(-2, -1),\n",
    "    \"Сумма всех элементов\": lambda x, y: x.sum()\n",
    "}\n",
    "\n",
    "table = PrettyTable()\n",
    "table.field_names = [\"Операция\", \"Размер тензора\", \"CPU (мс)\", \"GPU (мс)\", \"Ускорение\"]\n",
    "\n",
    "for op_name, op in operations.items():\n",
    "    for tensor, name in zip(tensors, tensor_names):\n",
    "        try:\n",
    "            # Измеряем время на CPU\n",
    "            x_cpu = tensor.clone()\n",
    "            cpu_time = measure_time(lambda: op(x_cpu, None), 'cpu')\n",
    "            \n",
    "            # Измеряем время на GPU (MPS)\n",
    "            if device.type == 'mps':\n",
    "                x_gpu = x_cpu.to(device)\n",
    "                gpu_time = measure_time(lambda: op(x_gpu, None), 'mps')\n",
    "                speedup = cpu_time / gpu_time\n",
    "            else:\n",
    "                gpu_time = \"N/A\"\n",
    "                speedup = \"N/A\"\n",
    "            \n",
    "            table.add_row([\n",
    "                op_name, \n",
    "                name, \n",
    "                f\"{cpu_time:.2f}\", \n",
    "                f\"{gpu_time:.2f}\" if device.type == 'mps' else gpu_time, \n",
    "                f\"{speedup:.2f}x\" if device.type == 'mps' else speedup\n",
    "            ])\n",
    "        except Exception as e:\n",
    "            print(f\"Ошибка при выполнении '{op_name}' с тензором {name}: {str(e)}\")\n",
    "            table.add_row([op_name, name, \"Ошибка\", \"Ошибка\", \"Ошибка\"])\n",
    "\n",
    "print(table)"
   ]
  },
  {
   "cell_type": "markdown",
   "id": "39605412",
   "metadata": {},
   "source": [
    "### 3.4 Анализ результатов"
   ]
  },
  {
   "cell_type": "markdown",
   "id": "151be0bd",
   "metadata": {},
   "source": [
    "В HOMEWORK.md"
   ]
  }
 ],
 "metadata": {
  "kernelspec": {
   "display_name": "env",
   "language": "python",
   "name": "python3"
  },
  "language_info": {
   "codemirror_mode": {
    "name": "ipython",
    "version": 3
   },
   "file_extension": ".py",
   "mimetype": "text/x-python",
   "name": "python",
   "nbconvert_exporter": "python",
   "pygments_lexer": "ipython3",
   "version": "3.12.0"
  }
 },
 "nbformat": 4,
 "nbformat_minor": 5
}
