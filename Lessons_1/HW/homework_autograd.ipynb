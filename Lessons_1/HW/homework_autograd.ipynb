{
 "cells": [
  {
   "cell_type": "code",
   "execution_count": 1,
   "id": "c08721e6",
   "metadata": {},
   "outputs": [],
   "source": [
    "import torch"
   ]
  },
  {
   "cell_type": "markdown",
   "id": "33157b25",
   "metadata": {},
   "source": [
    "### 2.1 Простые вычисления с градиентами"
   ]
  },
  {
   "cell_type": "code",
   "execution_count": null,
   "id": "031af55e",
   "metadata": {},
   "outputs": [],
   "source": [
    "# Создайте тензоры x, y, z с requires_grad=True\n",
    "# Вычислите функцию: f(x,y,z) = x^2 + y^2 + z^2 + 2*x*y*z\n",
    "# Найдите градиенты по всем переменным\n",
    "# Проверьте результат аналитически"
   ]
  },
  {
   "cell_type": "markdown",
   "id": "cd66d15a",
   "metadata": {},
   "source": [
    "Для аналитической проверки посчитаем производную"
   ]
  },
  {
   "cell_type": "code",
   "execution_count": 13,
   "id": "22fb8ea2",
   "metadata": {},
   "outputs": [
    {
     "name": "stdout",
     "output_type": "stream",
     "text": [
      "Градиенты: x=28.0, y=22.0, z=20.0\n",
      "Аналитичесикая проверка Градиента X = 28.0\n",
      "Аналитичесикая проверка Градиента Y = 22.0\n",
      "Аналитичесикая проверка Градиента Z = 20.0\n"
     ]
    }
   ],
   "source": [
    "x = torch.tensor(2.0, requires_grad=True)\n",
    "y = torch.tensor(3.0, requires_grad=True)\n",
    "z = torch.tensor(4.0, requires_grad=True)\n",
    "\n",
    "f = x**2 + y**2 + z**2 + 2*x*y*z\n",
    "f.backward()\n",
    "\n",
    "print(f\"Градиенты: x={x.grad}, y={y.grad}, z={z.grad}\")\n",
    "\n",
    "# Проверка результата \n",
    "#Производная по X\n",
    "print(f'Аналитичесикая проверка Градиента X = {2 * x + 2 * y * z}')\n",
    "#Производная по Y\n",
    "print(f'Аналитичесикая проверка Градиента Y = {2 * y + 2 * x * z}')\n",
    "#Производная по Z\n",
    "print(f'Аналитичесикая проверка Градиента Z = {2 * z + 2 * y * x}')"
   ]
  },
  {
   "cell_type": "markdown",
   "id": "ff9f73fb",
   "metadata": {},
   "source": [
    "### 2.2 Градиент функции потерь"
   ]
  },
  {
   "cell_type": "code",
   "execution_count": null,
   "id": "2b1a583e",
   "metadata": {},
   "outputs": [],
   "source": [
    "# Реализуйте функцию MSE (Mean Squared Error):\n",
    "# MSE = (1/n) * Σ(y_pred - y_true)^2\n",
    "# где y_pred = w * x + b (линейная функция)\n",
    "# Найдите градиенты по w и b"
   ]
  },
  {
   "cell_type": "code",
   "execution_count": 16,
   "id": "8cd5d3fd",
   "metadata": {},
   "outputs": [
    {
     "name": "stdout",
     "output_type": "stream",
     "text": [
      "Градиенты: w=tensor([0.1631]), b=tensor([0.2684])\n"
     ]
    }
   ],
   "source": [
    "def mse_loss(y_pred, y_true):\n",
    "    return ((y_pred - y_true)**2).mean()\n",
    "\n",
    "x = torch.rand(10)\n",
    "y_true = torch.rand(10)\n",
    "w = torch.rand(1, requires_grad=True)\n",
    "b = torch.rand(1, requires_grad=True)\n",
    "\n",
    "y_pred = w * x + b\n",
    "loss = mse_loss(y_pred, y_true)\n",
    "loss.backward()\n",
    "\n",
    "print(f\"Градиенты: w={w.grad}, b={b.grad}\")"
   ]
  },
  {
   "cell_type": "markdown",
   "id": "037a282e",
   "metadata": {},
   "source": [
    "### 2.3 Цепное правило"
   ]
  },
  {
   "cell_type": "code",
   "execution_count": null,
   "id": "c2033720",
   "metadata": {},
   "outputs": [],
   "source": [
    "# Реализуйте составную функцию: f(x) = sin(x^2 + 1)\n",
    "# Найдите градиент df/dx\n",
    "# Проверьте результат с помощью torch.autograd.grad"
   ]
  },
  {
   "cell_type": "markdown",
   "id": "97343763",
   "metadata": {},
   "source": [
    "Посчитаем градиент вручную(найдем производную) и сверим результат с torch.autograd.grad"
   ]
  },
  {
   "cell_type": "code",
   "execution_count": 22,
   "id": "d5359eb8",
   "metadata": {},
   "outputs": [
    {
     "name": "stdout",
     "output_type": "stream",
     "text": [
      "ручной подстчет -5.03442907333374\n",
      "Autograd: -5.03442907333374\n"
     ]
    }
   ],
   "source": [
    "x = torch.tensor(3.0, requires_grad=True)\n",
    "f = torch.sin(x**2 + 1)\n",
    "#Считаем градиент руками как и просили\n",
    "print(f'ручной подстчет {2 * x * torch.cos(x**2 + 1)}')\n",
    "grad = torch.autograd.grad(f, x)\n",
    "print(f\"Autograd: {grad[0]}\")"
   ]
  },
  {
   "cell_type": "markdown",
   "id": "14ebe3ba",
   "metadata": {},
   "source": [
    "Результат получился одинаковым"
   ]
  }
 ],
 "metadata": {
  "kernelspec": {
   "display_name": "env",
   "language": "python",
   "name": "python3"
  },
  "language_info": {
   "codemirror_mode": {
    "name": "ipython",
    "version": 3
   },
   "file_extension": ".py",
   "mimetype": "text/x-python",
   "name": "python",
   "nbconvert_exporter": "python",
   "pygments_lexer": "ipython3",
   "version": "3.12.0"
  }
 },
 "nbformat": 4,
 "nbformat_minor": 5
}
