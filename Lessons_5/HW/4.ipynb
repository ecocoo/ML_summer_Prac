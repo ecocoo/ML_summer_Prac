{
 "cells": [
  {
   "cell_type": "markdown",
   "id": "d9a0e165",
   "metadata": {},
   "source": [
    "1. Реализуйте класс AugmentationPipeline с методами:\n",
    "   - add_augmentation(name, aug)\n",
    "   - remove_augmentation(name)\n",
    "   - apply(image)\n",
    "   - get_augmentations()\n",
    "2. Создайте несколько конфигураций (light, medium, heavy).\n",
    "3. Примените каждую конфигурацию к train и сохраните результаты."
   ]
  },
  {
   "cell_type": "code",
   "execution_count": null,
   "id": "414aaa7d",
   "metadata": {},
   "outputs": [
    {
     "name": "stdout",
     "output_type": "stream",
     "text": [
      "Сохраняем изображения для конфигурации: light\n"
     ]
    },
    {
     "name": "stderr",
     "output_type": "stream",
     "text": [
      "100%|██████████| 180/180 [00:02<00:00, 89.48it/s]\n"
     ]
    },
    {
     "name": "stdout",
     "output_type": "stream",
     "text": [
      "Сохраняем изображения для конфигурации: medium\n"
     ]
    },
    {
     "name": "stderr",
     "output_type": "stream",
     "text": [
      "100%|██████████| 180/180 [00:02<00:00, 77.53it/s]\n"
     ]
    },
    {
     "name": "stdout",
     "output_type": "stream",
     "text": [
      "Сохраняем изображения для конфигурации: heavy\n"
     ]
    },
    {
     "name": "stderr",
     "output_type": "stream",
     "text": [
      "100%|██████████| 180/180 [00:02<00:00, 78.87it/s]\n"
     ]
    }
   ],
   "source": [
    "import os\n",
    "from tqdm import tqdm\n",
    "from PIL import Image\n",
    "from torchvision import transforms\n",
    "from torchvision.utils import save_image\n",
    "from datasets import CustomImageDataset\n",
    "from extra_augs import AddGaussianNoise, CutOut\n",
    "\n",
    "class AugmentationPipeline:\n",
    "    def __init__(self):\n",
    "        self.augmentations = {}\n",
    "        self.order = []\n",
    "\n",
    "    def add_augmentation(self, name, aug):\n",
    "        self.augmentations[name] = aug\n",
    "        self.order.append(name)\n",
    "\n",
    "    def remove_augmentation(self, name):\n",
    "        if name in self.augmentations:\n",
    "            del self.augmentations[name]\n",
    "            self.order.remove(name)\n",
    "\n",
    "    def apply(self, image):\n",
    "        # Применение аугментации\n",
    "        for name in self.order:\n",
    "            image = self.augmentations[name](image)\n",
    "        return image\n",
    "\n",
    "    def get_augmentations(self):\n",
    "        return self.order\n",
    "\n",
    "def build_pipeline(config='light'):\n",
    "    pipeline = AugmentationPipeline()\n",
    "\n",
    "    if config == 'light':\n",
    "        pipeline.add_augmentation(\"Flip\", transforms.RandomHorizontalFlip(p=0.5))\n",
    "        pipeline.add_augmentation(\"ToTensor\", transforms.ToTensor())\n",
    "\n",
    "    elif config == 'medium':\n",
    "        pipeline.add_augmentation(\"Flip\", transforms.RandomHorizontalFlip(p=0.5))\n",
    "        pipeline.add_augmentation(\"Crop\", transforms.RandomCrop(200, padding=20))\n",
    "        pipeline.add_augmentation(\"ColorJitter\", transforms.ColorJitter(0.2, 0.2, 0.2, 0.1))\n",
    "        pipeline.add_augmentation(\"ToTensor\", transforms.ToTensor())\n",
    "        pipeline.add_augmentation(\"Noise\", AddGaussianNoise(0., 0.1))\n",
    "\n",
    "    elif config == 'heavy':\n",
    "        pipeline.add_augmentation(\"Flip\", transforms.RandomHorizontalFlip(p=0.5))\n",
    "        pipeline.add_augmentation(\"Crop\", transforms.RandomCrop(200, padding=20))\n",
    "        pipeline.add_augmentation(\"ColorJitter\", transforms.ColorJitter(0.4, 0.4, 0.4, 0.2))\n",
    "        pipeline.add_augmentation(\"ToTensor\", transforms.ToTensor())\n",
    "        pipeline.add_augmentation(\"Noise\", AddGaussianNoise(0., 0.1))\n",
    "        pipeline.add_augmentation(\"CutOut\", CutOut(p=0.5, size=(32, 32)))\n",
    "\n",
    "    return pipeline\n",
    "\n",
    "def save_augmented_dataset(config_name, pipeline, data_root='data/train', save_root='augmented'):\n",
    "    dataset = CustomImageDataset(data_root, transform=None, target_size=(224, 224))\n",
    "    class_names = dataset.get_class_names()\n",
    "\n",
    "    save_path_root = os.path.join(save_root, f\"train_{config_name}\")\n",
    "    os.makedirs(save_path_root, exist_ok=True)\n",
    "    for cls in class_names:\n",
    "        os.makedirs(os.path.join(save_path_root, cls), exist_ok=True)\n",
    "\n",
    "    print(f\"Сохраняем изображения для конфигурации: {config_name}\")\n",
    "\n",
    "    for i in tqdm(range(len(dataset))):\n",
    "        img, label = dataset[i]\n",
    "        class_name = class_names[label]\n",
    "\n",
    "        augmented_img = pipeline.apply(img)\n",
    "        save_path = os.path.join(save_path_root, class_name, f\"img_{i}.png\")\n",
    "        save_image(augmented_img, save_path)\n",
    "\n",
    "# Выполнение всех конфигураций\n",
    "for config_name in ['light', 'medium', 'heavy']:\n",
    "    pipeline = build_pipeline(config_name)\n",
    "    save_augmented_dataset(config_name, pipeline)"
   ]
  }
 ],
 "metadata": {
  "kernelspec": {
   "display_name": "env",
   "language": "python",
   "name": "python3"
  },
  "language_info": {
   "codemirror_mode": {
    "name": "ipython",
    "version": 3
   },
   "file_extension": ".py",
   "mimetype": "text/x-python",
   "name": "python",
   "nbconvert_exporter": "python",
   "pygments_lexer": "ipython3",
   "version": "3.12.0"
  }
 },
 "nbformat": 4,
 "nbformat_minor": 5
}
